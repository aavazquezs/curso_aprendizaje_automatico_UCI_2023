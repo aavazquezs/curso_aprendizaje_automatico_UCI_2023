{
 "cells": [
  {
   "cell_type": "markdown",
   "metadata": {},
   "source": [
    "# Ejercicios Laboratorio 02"
   ]
  },
  {
   "cell_type": "markdown",
   "metadata": {},
   "source": [
    "1 - Realice el proceso de integración de datos para los siguientes conjuntos de datos:\n",
    "* heart-disease.cleveland.csv\n",
    "* heart-disease.hungarian.csv\n",
    "* heart-disease.switzerland.csv"
   ]
  },
  {
   "cell_type": "code",
   "execution_count": null,
   "metadata": {},
   "outputs": [],
   "source": []
  },
  {
   "cell_type": "markdown",
   "metadata": {},
   "source": [
    "asdsd"
   ]
  },
  {
   "cell_type": "code",
   "execution_count": null,
   "metadata": {},
   "outputs": [],
   "source": []
  },
  {
   "cell_type": "markdown",
   "metadata": {},
   "source": [
    "\n",
    "3 - Evalúe los modelos *houseprices_reg.pkl* y *student_performance_reg.pkl* tomando en cuenta que los conjuntos de datos usados para entrenarlos son los siguientes *houseprices_regression.csv* y *students_performance_evaluation.csv* respectivamente."
   ]
  },
  {
   "cell_type": "code",
   "execution_count": null,
   "metadata": {},
   "outputs": [],
   "source": []
  },
  {
   "cell_type": "markdown",
   "metadata": {},
   "source": [
    "4 - Evalúa el rendimiento del modelo de árboles de decisión *decision_tree_clf.pkl* que fue entrenado usando el conjunto de datos *breast_cancer.csv*. Para ello utilice métricas de tipo numéricas y gráficos para saber si ese modelo brinda buenos resultados en la clasificación."
   ]
  },
  {
   "cell_type": "code",
   "execution_count": null,
   "metadata": {},
   "outputs": [],
   "source": []
  }
 ],
 "metadata": {
  "language_info": {
   "name": "python"
  },
  "orig_nbformat": 4
 },
 "nbformat": 4,
 "nbformat_minor": 2
}
